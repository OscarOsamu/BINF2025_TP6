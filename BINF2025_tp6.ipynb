{
 "cells": [
  {
   "cell_type": "markdown",
   "metadata": {
    "colab_type": "text",
    "id": "view-in-github"
   },
   "source": [
    "<a href=\"https://colab.research.google.com/github/pparutto/BINF2025_TP6/blob/main/BINF2025_tp6.ipynb\" target=\"_parent\"><img src=\"https://colab.research.google.com/assets/colab-badge.svg\" alt=\"Open In Colab\"/></a>"
   ]
  },
  {
   "cell_type": "markdown",
   "metadata": {
    "id": "x3gbtL4QjAil"
   },
   "source": [
    "## BINF TP6 : bases de données métaboliques et rdkit\n",
    "\n",
    "Les bases de données métaboliques stockent des informations sur les composés et réaction chimiques présentes chez différents organismes ainsi que les enzymes associées. rdkit est une bibliothèque de manipulation de composés et réactions chimiques.\n",
    "\n",
    "Installons rdkit :"
   ]
  },
  {
   "cell_type": "code",
   "execution_count": 1,
   "metadata": {
    "id": "N5fiDGAcmwW1"
   },
   "outputs": [
    {
     "name": "stdout",
     "output_type": "stream",
     "text": [
      "Collecting rdkit\n",
      "  Obtaining dependency information for rdkit from https://files.pythonhosted.org/packages/76/27/d720a0b32b8eba19dc02e263627acb4ca91eb8c855f09ce7e4da861082c2/rdkit-2025.3.2-cp311-cp311-win_amd64.whl.metadata\n",
      "  Downloading rdkit-2025.3.2-cp311-cp311-win_amd64.whl.metadata (4.1 kB)\n",
      "Requirement already satisfied: numpy in c:\\users\\lisam\\anaconda3\\lib\\site-packages (from rdkit) (1.24.3)\n",
      "Requirement already satisfied: Pillow in c:\\users\\lisam\\anaconda3\\lib\\site-packages (from rdkit) (9.4.0)\n",
      "Downloading rdkit-2025.3.2-cp311-cp311-win_amd64.whl (22.7 MB)\n",
      "   ---------------------------------------- 0.0/22.7 MB ? eta -:--:--\n",
      "   ---------------------------------------- 0.0/22.7 MB ? eta -:--:--\n",
      "   ---------------------------------------- 0.0/22.7 MB ? eta -:--:--\n",
      "   ---------------------------------------- 0.0/22.7 MB ? eta -:--:--\n",
      "   ---------------------------------------- 0.0/22.7 MB ? eta -:--:--\n",
      "   ---------------------------------------- 0.0/22.7 MB ? eta -:--:--\n",
      "   ---------------------------------------- 0.0/22.7 MB ? eta -:--:--\n",
      "   ---------------------------------------- 0.0/22.7 MB ? eta -:--:--\n",
      "   ---------------------------------------- 0.0/22.7 MB ? eta -:--:--\n",
      "   ---------------------------------------- 0.0/22.7 MB ? eta -:--:--\n",
      "   ---------------------------------------- 0.0/22.7 MB ? eta -:--:--\n",
      "   ---------------------------------------- 0.0/22.7 MB 1.9 MB/s eta 0:00:12\n",
      "   ---------------------------------------- 0.0/22.7 MB 1.9 MB/s eta 0:00:12\n",
      "   ---------------------------------------- 0.0/22.7 MB 1.9 MB/s eta 0:00:12\n",
      "   ---------------------------------------- 0.0/22.7 MB 1.9 MB/s eta 0:00:12\n",
      "   ---------------------------------------- 0.1/22.7 MB 297.7 kB/s eta 0:01:17\n",
      "   ---------------------------------------- 0.1/22.7 MB 297.7 kB/s eta 0:01:17\n",
      "   ---------------------------------------- 0.1/22.7 MB 231.0 kB/s eta 0:01:39\n",
      "   ---------------------------------------- 0.1/22.7 MB 249.8 kB/s eta 0:01:31\n",
      "   ---------------------------------------- 0.1/22.7 MB 256.0 kB/s eta 0:01:29\n",
      "   ---------------------------------------- 0.3/22.7 MB 606.6 kB/s eta 0:00:38\n",
      "   - -------------------------------------- 0.7/22.7 MB 1.4 MB/s eta 0:00:16\n",
      "   - -------------------------------------- 1.0/22.7 MB 1.8 MB/s eta 0:00:12\n",
      "   -- ------------------------------------- 1.4/22.7 MB 2.5 MB/s eta 0:00:09\n",
      "   --- ------------------------------------ 1.8/22.7 MB 3.0 MB/s eta 0:00:08\n",
      "   --- ------------------------------------ 2.2/22.7 MB 3.3 MB/s eta 0:00:07\n",
      "   ---- ----------------------------------- 2.5/22.7 MB 3.6 MB/s eta 0:00:06\n",
      "   ---- ----------------------------------- 2.8/22.7 MB 3.8 MB/s eta 0:00:06\n",
      "   ----- ---------------------------------- 3.2/22.7 MB 4.1 MB/s eta 0:00:05\n",
      "   ------ --------------------------------- 3.5/22.7 MB 4.2 MB/s eta 0:00:05\n",
      "   ------ --------------------------------- 3.8/22.7 MB 4.4 MB/s eta 0:00:05\n",
      "   ------- -------------------------------- 4.1/22.7 MB 4.5 MB/s eta 0:00:05\n",
      "   ------- -------------------------------- 4.4/22.7 MB 4.6 MB/s eta 0:00:05\n",
      "   -------- ------------------------------- 4.6/22.7 MB 4.6 MB/s eta 0:00:04\n",
      "   -------- ------------------------------- 4.8/22.7 MB 4.6 MB/s eta 0:00:04\n",
      "   -------- ------------------------------- 5.0/22.7 MB 4.6 MB/s eta 0:00:04\n",
      "   --------- ------------------------------ 5.2/22.7 MB 4.7 MB/s eta 0:00:04\n",
      "   --------- ------------------------------ 5.5/22.7 MB 4.6 MB/s eta 0:00:04\n",
      "   ---------- ----------------------------- 5.7/22.7 MB 4.7 MB/s eta 0:00:04\n",
      "   ---------- ----------------------------- 6.1/22.7 MB 4.8 MB/s eta 0:00:04\n",
      "   ----------- ---------------------------- 6.3/22.7 MB 4.7 MB/s eta 0:00:04\n",
      "   ----------- ---------------------------- 6.6/22.7 MB 4.8 MB/s eta 0:00:04\n",
      "   ----------- ---------------------------- 6.7/22.7 MB 4.8 MB/s eta 0:00:04\n",
      "   ------------ --------------------------- 6.9/22.7 MB 4.7 MB/s eta 0:00:04\n",
      "   ------------ --------------------------- 7.0/22.7 MB 4.7 MB/s eta 0:00:04\n",
      "   ------------ --------------------------- 7.2/22.7 MB 4.7 MB/s eta 0:00:04\n",
      "   ------------- -------------------------- 7.4/22.7 MB 4.7 MB/s eta 0:00:04\n",
      "   ------------- -------------------------- 7.5/22.7 MB 4.6 MB/s eta 0:00:04\n",
      "   ------------- -------------------------- 7.8/22.7 MB 4.7 MB/s eta 0:00:04\n",
      "   -------------- ------------------------- 8.1/22.7 MB 4.7 MB/s eta 0:00:04\n",
      "   -------------- ------------------------- 8.3/22.7 MB 4.7 MB/s eta 0:00:04\n",
      "   -------------- ------------------------- 8.5/22.7 MB 4.7 MB/s eta 0:00:04\n",
      "   --------------- ------------------------ 8.7/22.7 MB 4.7 MB/s eta 0:00:04\n",
      "   --------------- ------------------------ 8.8/22.7 MB 4.7 MB/s eta 0:00:03\n",
      "   --------------- ------------------------ 9.0/22.7 MB 4.6 MB/s eta 0:00:03\n",
      "   ---------------- ----------------------- 9.2/22.7 MB 4.6 MB/s eta 0:00:03\n",
      "   ---------------- ----------------------- 9.4/22.7 MB 4.6 MB/s eta 0:00:03\n",
      "   ---------------- ----------------------- 9.6/22.7 MB 4.6 MB/s eta 0:00:03\n",
      "   ----------------- ---------------------- 9.8/22.7 MB 4.6 MB/s eta 0:00:03\n",
      "   ----------------- ---------------------- 10.0/22.7 MB 4.6 MB/s eta 0:00:03\n",
      "   ----------------- ---------------------- 10.1/22.7 MB 4.6 MB/s eta 0:00:03\n",
      "   ------------------ --------------------- 10.3/22.7 MB 5.1 MB/s eta 0:00:03\n",
      "   ------------------ --------------------- 10.5/22.7 MB 5.5 MB/s eta 0:00:03\n",
      "   ------------------ --------------------- 10.6/22.7 MB 5.4 MB/s eta 0:00:03\n",
      "   ------------------ --------------------- 10.7/22.7 MB 5.3 MB/s eta 0:00:03\n",
      "   ------------------- -------------------- 10.9/22.7 MB 5.2 MB/s eta 0:00:03\n",
      "   ------------------- -------------------- 11.1/22.7 MB 5.1 MB/s eta 0:00:03\n",
      "   ------------------- -------------------- 11.3/22.7 MB 5.1 MB/s eta 0:00:03\n",
      "   -------------------- ------------------- 11.4/22.7 MB 5.0 MB/s eta 0:00:03\n",
      "   -------------------- ------------------- 11.5/22.7 MB 5.0 MB/s eta 0:00:03\n",
      "   -------------------- ------------------- 11.7/22.7 MB 5.0 MB/s eta 0:00:03\n",
      "   -------------------- ------------------- 11.8/22.7 MB 4.8 MB/s eta 0:00:03\n",
      "   --------------------- ------------------ 12.1/22.7 MB 4.8 MB/s eta 0:00:03\n",
      "   --------------------- ------------------ 12.2/22.7 MB 4.7 MB/s eta 0:00:03\n",
      "   --------------------- ------------------ 12.4/22.7 MB 4.7 MB/s eta 0:00:03\n",
      "   --------------------- ------------------ 12.5/22.7 MB 4.6 MB/s eta 0:00:03\n",
      "   ---------------------- ----------------- 12.7/22.7 MB 4.6 MB/s eta 0:00:03\n",
      "   ---------------------- ----------------- 12.8/22.7 MB 4.6 MB/s eta 0:00:03\n",
      "   ---------------------- ----------------- 12.9/22.7 MB 4.5 MB/s eta 0:00:03\n",
      "   ----------------------- ---------------- 13.1/22.7 MB 4.5 MB/s eta 0:00:03\n",
      "   ----------------------- ---------------- 13.2/22.7 MB 4.4 MB/s eta 0:00:03\n",
      "   ----------------------- ---------------- 13.3/22.7 MB 4.4 MB/s eta 0:00:03\n",
      "   ----------------------- ---------------- 13.5/22.7 MB 4.3 MB/s eta 0:00:03\n",
      "   ------------------------ --------------- 13.7/22.7 MB 4.3 MB/s eta 0:00:03\n",
      "   ------------------------ --------------- 13.9/22.7 MB 4.3 MB/s eta 0:00:03\n",
      "   ------------------------ --------------- 14.0/22.7 MB 4.2 MB/s eta 0:00:03\n",
      "   ------------------------ --------------- 14.2/22.7 MB 4.1 MB/s eta 0:00:03\n",
      "   ------------------------- -------------- 14.3/22.7 MB 4.1 MB/s eta 0:00:03\n",
      "   ------------------------- -------------- 14.5/22.7 MB 4.1 MB/s eta 0:00:03\n",
      "   ------------------------- -------------- 14.6/22.7 MB 4.0 MB/s eta 0:00:03\n",
      "   ------------------------- -------------- 14.7/22.7 MB 4.0 MB/s eta 0:00:03\n",
      "   -------------------------- ------------- 14.8/22.7 MB 4.0 MB/s eta 0:00:03\n",
      "   -------------------------- ------------- 15.0/22.7 MB 4.0 MB/s eta 0:00:02\n",
      "   -------------------------- ------------- 15.2/22.7 MB 4.0 MB/s eta 0:00:02\n",
      "   --------------------------- ------------ 15.6/22.7 MB 4.0 MB/s eta 0:00:02\n",
      "   ---------------------------- ----------- 16.0/22.7 MB 4.0 MB/s eta 0:00:02\n",
      "   ---------------------------- ----------- 16.4/22.7 MB 4.1 MB/s eta 0:00:02\n",
      "   ----------------------------- ---------- 16.5/22.7 MB 4.1 MB/s eta 0:00:02\n",
      "   ----------------------------- ---------- 16.7/22.7 MB 4.0 MB/s eta 0:00:02\n",
      "   ----------------------------- ---------- 17.0/22.7 MB 4.1 MB/s eta 0:00:02\n",
      "   ------------------------------ --------- 17.2/22.7 MB 4.1 MB/s eta 0:00:02\n",
      "   ------------------------------ --------- 17.5/22.7 MB 4.1 MB/s eta 0:00:02\n",
      "   ------------------------------- -------- 17.8/22.7 MB 4.2 MB/s eta 0:00:02\n",
      "   ------------------------------- -------- 18.1/22.7 MB 4.2 MB/s eta 0:00:02\n",
      "   -------------------------------- ------- 18.3/22.7 MB 4.2 MB/s eta 0:00:02\n",
      "   -------------------------------- ------- 18.3/22.7 MB 4.1 MB/s eta 0:00:02\n",
      "   -------------------------------- ------- 18.3/22.7 MB 4.1 MB/s eta 0:00:02\n",
      "   -------------------------------- ------- 18.4/22.7 MB 4.0 MB/s eta 0:00:02\n",
      "   -------------------------------- ------- 18.5/22.7 MB 4.0 MB/s eta 0:00:02\n",
      "   -------------------------------- ------- 18.7/22.7 MB 4.0 MB/s eta 0:00:02\n",
      "   --------------------------------- ------ 18.9/22.7 MB 4.0 MB/s eta 0:00:01\n",
      "   --------------------------------- ------ 19.1/22.7 MB 4.0 MB/s eta 0:00:01\n",
      "   --------------------------------- ------ 19.3/22.7 MB 4.0 MB/s eta 0:00:01\n",
      "   ---------------------------------- ----- 19.4/22.7 MB 4.0 MB/s eta 0:00:01\n",
      "   ---------------------------------- ----- 19.6/22.7 MB 4.0 MB/s eta 0:00:01\n",
      "   ---------------------------------- ----- 19.8/22.7 MB 4.0 MB/s eta 0:00:01\n",
      "   ----------------------------------- ---- 20.1/22.7 MB 4.1 MB/s eta 0:00:01\n",
      "   ----------------------------------- ---- 20.5/22.7 MB 4.1 MB/s eta 0:00:01\n",
      "   ------------------------------------ --- 20.7/22.7 MB 4.1 MB/s eta 0:00:01\n",
      "   ------------------------------------ --- 21.0/22.7 MB 4.2 MB/s eta 0:00:01\n",
      "   ------------------------------------- -- 21.3/22.7 MB 4.3 MB/s eta 0:00:01\n",
      "   -------------------------------------- - 21.7/22.7 MB 4.4 MB/s eta 0:00:01\n",
      "   -------------------------------------- - 22.1/22.7 MB 4.5 MB/s eta 0:00:01\n",
      "   ---------------------------------------  22.4/22.7 MB 4.6 MB/s eta 0:00:01\n",
      "   ---------------------------------------  22.7/22.7 MB 4.6 MB/s eta 0:00:01\n",
      "   ---------------------------------------  22.7/22.7 MB 4.7 MB/s eta 0:00:01\n",
      "   ---------------------------------------  22.7/22.7 MB 4.7 MB/s eta 0:00:01\n",
      "   ---------------------------------------  22.7/22.7 MB 4.7 MB/s eta 0:00:01\n",
      "   ---------------------------------------  22.7/22.7 MB 4.7 MB/s eta 0:00:01\n",
      "   ---------------------------------------  22.7/22.7 MB 4.7 MB/s eta 0:00:01\n",
      "   ---------------------------------------  22.7/22.7 MB 4.7 MB/s eta 0:00:01\n",
      "   ---------------------------------------  22.7/22.7 MB 4.7 MB/s eta 0:00:01\n",
      "   ---------------------------------------  22.7/22.7 MB 4.7 MB/s eta 0:00:01\n",
      "   ---------------------------------------  22.7/22.7 MB 4.7 MB/s eta 0:00:01\n",
      "   ---------------------------------------  22.7/22.7 MB 4.7 MB/s eta 0:00:01\n",
      "   ---------------------------------------  22.7/22.7 MB 4.7 MB/s eta 0:00:01\n",
      "   ---------------------------------------  22.7/22.7 MB 4.7 MB/s eta 0:00:01\n",
      "   ---------------------------------------- 22.7/22.7 MB 3.7 MB/s eta 0:00:00\n",
      "Installing collected packages: rdkit\n",
      "Successfully installed rdkit-2025.3.2\n"
     ]
    }
   ],
   "source": [
    "!pip install rdkit"
   ]
  },
  {
   "cell_type": "markdown",
   "metadata": {
    "id": "qgWmNE_-mun5"
   },
   "source": [
    "## Exercice 1 : Base de données Kegg et visualisation du cycle TCA\n",
    "\n",
    "[https://www.genome.jp/kegg/](https://www.genome.jp/kegg/)\n",
    "\n",
    "1. Utilisez le module «pathway » de la base de donnes Kegg pour visualiser le cycle de l’acide citrique. Appelé en anglais : TCA cycle, citric acid cycle ou encore Krebs cycle.\n",
    "2. Combien de reactions contient-il ? On s'intéresse uniquement aux réactions du cycle contenant l'acide citrique."
   ]
  },
  {
   "cell_type": "markdown",
   "metadata": {
    "id": "xReGWi0G5Euo"
   },
   "source": [
    "9"
   ]
  },
  {
   "cell_type": "markdown",
   "metadata": {
    "id": "fr0mAXml5Dlv"
   },
   "source": [
    "3. Quels sont les identifiants EC (E.C numbers) associes à chacune de ces réactions."
   ]
  },
  {
   "cell_type": "markdown",
   "metadata": {
    "id": "zzZt_NEm5Jxu"
   },
   "source": [
    "4.2.1.3   \n",
    "1.1.1.42    \n",
    "1.2.4.2   \n",
    "2.3.1.61   \n",
    "6.2.1.4   \n",
    "1.3.2.4  \n",
    "4.2.1.2   \n",
    "1.1.1.37   \n",
    "2.3.3.1   \n",
    "\n"
   ]
  },
  {
   "cell_type": "markdown",
   "metadata": {
    "id": "9Ccrjixj5LI5"
   },
   "source": [
    "4. Pourquoi certains identifiants EC sont-ils en double ?"
   ]
  },
  {
   "cell_type": "markdown",
   "metadata": {
    "id": "H1H4CqSc5OJw"
   },
   "source": [
    "L'enzyme intervient plusieurs fois "
   ]
  },
  {
   "cell_type": "markdown",
   "metadata": {
    "id": "OSXnNhXJ5Q2r"
   },
   "source": [
    "5. Qu’observez-vous de plus à propos de ces EC numbers ?"
   ]
  },
  {
   "cell_type": "markdown",
   "metadata": {
    "id": "jVgDoP7k5SnX"
   },
   "source": [
    "ils sont composé de 4 parties permettant d'identifier leurs propriétés"
   ]
  },
  {
   "cell_type": "markdown",
   "metadata": {
    "id": "9_YKyLxU5UCx"
   },
   "source": [
    "Malheureusement la base de données KEGG ne peut pas être téléchargée gratuitement, nous allons donc changer de base de données."
   ]
  },
  {
   "cell_type": "markdown",
   "metadata": {
    "id": "Gpbi8aO6kRFl"
   },
   "source": [
    "## Exercice 2 : Base de données Rhea et visualisation du cycle TCA\n",
    "\n",
    "[https://www.rhea-db.org/](https://www.rhea-db.org/)\n",
    "\n",
    "A L’inverse, la base de données Rhea est téléchargeable, mais elle ne fournit pas de visualisation des voies métaboliques. C’est pour ça que l’on a fait la partie précédente avec KEGG.\n",
    "\n",
    "\n",
    "1. Trouvez les IDs Rhea associés aux EC numbers extraits dans l'exercice précédent. Faites attention à choisir des réactions unidirectionnelles. Si vous avez l’id d’une réaction bidirectionnelle, id+1 et id+2 devraient correspondre aux réactions décomposées dans chaque sens. Faites attention au sens de réaction."
   ]
  },
  {
   "cell_type": "markdown",
   "metadata": {
    "id": "HnDqzpRL5qgU"
   },
   "source": [
    "\n",
    "RHEA:21432   \n",
    "RHEA:30095\n",
    "RHEA:12460\n",
    "RHEA:27834\n",
    "RHEA:22120\n",
    "    \n",
    "RHEA:17661\n",
    "RHEA:35711\n",
    "RHEA:16845\n",
    "RHEA:23780\n",
    "\n",
    "RHEA:10336\n",
    "RHEA:15213\n",
    "RHEA:33059\n",
    "RHEA:12188\n",
    "\n",
    "RHEA:42316\n",
    "RHEA:17297\n",
    "RHEA:12188\n",
    "RHEA:19629\n",
    "\n",
    "RHEA:23632\n"
   ]
  },
  {
   "cell_type": "markdown",
   "metadata": {
    "id": "eanm0mpo5raX"
   },
   "source": [
    "2. Téléchargez Rhea, choisissez le format « rhea-reaction-smiles.tsv ». Quel est ce format ?"
   ]
  },
  {
   "cell_type": "markdown",
   "metadata": {
    "id": "FDpE8Bdq5z6M"
   },
   "source": [
    "Ce format represente des values séparer par des tabs de differentes reactions SMILES orientées (gauche à droite et droite à gauche)"
   ]
  },
  {
   "cell_type": "markdown",
   "metadata": {
    "id": "I8SnIgek50oA"
   },
   "source": [
    "3. Chargez ce fichier via RdKit via \"rdChemReactions.ReactionFromSmarts\" du module rdkit.Chem"
   ]
  },
  {
   "cell_type": "code",
   "execution_count": 2,
   "metadata": {
    "id": "guPceFEci_lI"
   },
   "outputs": [],
   "source": [
    "import rdkit\n",
    "\n",
    "file = rdkit.Chem.rdChemReactions.ReactionFromSmarts"
   ]
  },
  {
   "cell_type": "markdown",
   "metadata": {
    "id": "qXWJXyzsk-AE"
   },
   "source": [
    "4. Cherchez dans ces réactions celles associées au cycle TCA en vous basant sur l’ID Rhea."
   ]
  },
  {
   "cell_type": "code",
   "execution_count": null,
   "metadata": {
    "id": "g0wWVKGwlDFF"
   },
   "outputs": [],
   "source": [
    "print(\"votre code ici !!\")"
   ]
  },
  {
   "cell_type": "markdown",
   "metadata": {
    "id": "dnysSbI5lF_b"
   },
   "source": [
    "5. Affichez les réactions du cycle TCA, vous pouvez utiliser la fonction display de « IPython.display » sur une réaction, vous devez aussi importer\n",
    "\n",
    "« from rdkit.Chem.Draw import IPythonConsole »"
   ]
  },
  {
   "cell_type": "code",
   "execution_count": null,
   "metadata": {
    "id": "JU_LNBUNlG4r"
   },
   "outputs": [],
   "source": [
    "print(\"Votre code ici !!\")"
   ]
  },
  {
   "cell_type": "markdown",
   "metadata": {
    "id": "wcQSq6_Xly5B"
   },
   "source": [
    "\n",
    "## Exercice 3 : RdKit\n",
    "\n",
    "1.\tPour se familiariser avec Rdkit et le format MOL nous allons faire un parser de MOL.\n",
    "Ecrire la fonction load_mol(fname: str) -> Chem.Mol qui prend un fichier mol en entrée et retourne la molécule associée au format Mol de RdKit.\n",
    "Utilisez Chem.Mol, Chem.EditableMol, m.AddAtom, m.AddBond"
   ]
  },
  {
   "cell_type": "code",
   "execution_count": null,
   "metadata": {
    "id": "566Svv_Ul6ob"
   },
   "outputs": [],
   "source": [
    "print(\"votre code ici !!\")"
   ]
  },
  {
   "cell_type": "markdown",
   "metadata": {
    "id": "4hQPPg09l8ca"
   },
   "source": [
    "\n",
    "2.\tEcrire la fonction raw_formula(m: Chem.Mol) -> str qui retourne la formule brute de la molécule m.\n",
    "Utilisez GetAtoms sur une molécule pour récupérer les listes des atomes et GetSymbol sur un atome pour récupérer son symbole."
   ]
  },
  {
   "cell_type": "code",
   "execution_count": null,
   "metadata": {
    "id": "Oj_ZEr5RmAVW"
   },
   "outputs": [],
   "source": [
    "print(\"votre code ici !!\")"
   ]
  },
  {
   "cell_type": "markdown",
   "metadata": {
    "id": "jHu1nW3-mB6f"
   },
   "source": [
    "3.\tRécupérez les smiles et inchi de la molécule \"citrulline\" à partir des bases de données Rhea et pubchem. Puis :\n",
    "\n",
    "* Comparez les Smiles ;\n",
    "* Chargez les molécules dans rdkit via « Chem.MolFromSmiles» et comparez-les ;\n",
    "* Comparez les formules brutes généré par votre fonction précédente ;\n",
    "* Comparez les smiles générés par « Chem.MolToSmiles » ;\n",
    "* Testez la méthode « m.HasSubstructMatch(m2) »."
   ]
  },
  {
   "cell_type": "code",
   "execution_count": null,
   "metadata": {
    "id": "A0Fi03eJmEHa"
   },
   "outputs": [],
   "source": [
    "print(\"votre code ici !!\")"
   ]
  },
  {
   "cell_type": "markdown",
   "metadata": {
    "id": "-Q49JEHDmFxC"
   },
   "source": [
    "4.\tA quelle molécule correspond ce smiles :\n",
    "\n",
    "C[NH2+] [C@H] 1[C@H] (O) [C@@H] (O) [C@H] (CO) O[C@H] 1O[C@H] 1[C@@H] (O[C@@H] (C) [C@] 1(O) CO) O[C@H] 1[C@H] (O) [C@@H] (OP([O- ] ) ([O- ] ) =O) [C@H] (NC(N) =[NH2+] ) [C@@H] (O) [C@@H] 1NC(N) =[NH2+]"
   ]
  },
  {
   "cell_type": "markdown",
   "metadata": {
    "id": "BbdL_9JsmHCJ"
   },
   "source": [
    "votre réponse ici!"
   ]
  }
 ],
 "metadata": {
  "colab": {
   "authorship_tag": "ABX9TyMlj7yAC/ydT3s7LpoX8Wj2",
   "include_colab_link": true,
   "provenance": []
  },
  "kernelspec": {
   "display_name": "Python 3 (ipykernel)",
   "language": "python",
   "name": "python3"
  },
  "language_info": {
   "codemirror_mode": {
    "name": "ipython",
    "version": 3
   },
   "file_extension": ".py",
   "mimetype": "text/x-python",
   "name": "python",
   "nbconvert_exporter": "python",
   "pygments_lexer": "ipython3",
   "version": "3.11.5"
  }
 },
 "nbformat": 4,
 "nbformat_minor": 1
}
